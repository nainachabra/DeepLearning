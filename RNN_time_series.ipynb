{
 "cells": [
  {
   "cell_type": "code",
   "execution_count": 100,
   "id": "5a310d43",
   "metadata": {},
   "outputs": [],
   "source": [
    "# RECURRENT NEURAL NETWORKS FOR TIME SERIES FORECASTING AND STOCK MARK PREDICTION"
   ]
  },
  {
   "cell_type": "code",
   "execution_count": 101,
   "id": "8572745a",
   "metadata": {},
   "outputs": [],
   "source": [
    "# 1. Generation of time series"
   ]
  },
  {
   "cell_type": "code",
   "execution_count": 102,
   "id": "25d354bb",
   "metadata": {},
   "outputs": [],
   "source": [
    "import numpy as np\n",
    "from sklearn.model_selection import train_test_split\n",
    "import tensorflow as tf\n",
    "from tensorflow import keras"
   ]
  },
  {
   "cell_type": "code",
   "execution_count": 103,
   "id": "4d3658ea",
   "metadata": {},
   "outputs": [],
   "source": [
    "# generate time series data\n",
    "\n",
    "def generate_time_series(sample_size, n_steps):\n",
    "     freq1, freq2, offsets1, offsets2 = np.random.rand(4, sample_size, 1)\n",
    "     time = np.linspace(0, 1, n_steps)\n",
    "     series = 0.5 * np.sin((time - offsets1) * (freq1 * 10 + 10)) #wave1+\n",
    "     series += 0.2 * np.sin((time - offsets2) * (freq2 * 20 + 20)) #wave2+\n",
    "     series += 0.1 * (np.random.rand(sample_size, n_steps) - 0.5)  #noise\n",
    "     return series[..., np.newaxis].astype(np.float32)"
   ]
  },
  {
   "cell_type": "code",
   "execution_count": 104,
   "id": "cd4461aa",
   "metadata": {},
   "outputs": [],
   "source": [
    "sample_size=10000\n",
    "n_steps=51"
   ]
  },
  {
   "cell_type": "code",
   "execution_count": 105,
   "id": "88b10b05",
   "metadata": {},
   "outputs": [],
   "source": [
    "df=generate_time_series(sample_size,n_steps)"
   ]
  },
  {
   "cell_type": "code",
   "execution_count": 106,
   "id": "85731971",
   "metadata": {},
   "outputs": [],
   "source": [
    "x=df[:,:n_steps-1]\n",
    "y=df[:,-1]"
   ]
  },
  {
   "cell_type": "code",
   "execution_count": 107,
   "id": "4a509d93",
   "metadata": {},
   "outputs": [],
   "source": [
    "# split the dataset\n",
    "\n",
    "x_train,x_temp,y_train,y_temp=train_test_split(x,y,test_size=0.3,random_state=42)\n",
    "x_val,x_test,y_val,y_test=train_test_split(x_temp,y_temp, test_size=0.33,random_state=42)"
   ]
  },
  {
   "cell_type": "code",
   "execution_count": 108,
   "id": "49c5689b",
   "metadata": {},
   "outputs": [],
   "source": [
    "# design, train and test models\n",
    "\n",
    "def evaluate_model(model,x_test,y_test):\n",
    "    loss=model.evaluate(x_test,y_test)\n",
    "    print(f\"Test Loss: {loss:.4f}\")"
   ]
  },
  {
   "cell_type": "code",
   "execution_count": 109,
   "id": "5d8012a2",
   "metadata": {},
   "outputs": [],
   "source": [
    "# a.Fully connected neural network\n",
    "\n",
    "fc_model = keras.Sequential([\n",
    "    keras.layers.Flatten(input_shape=[n_steps-1, 1]),\n",
    "    keras.layers.Dense(128, activation='relu'),\n",
    "    keras.layers.Dense(1)\n",
    "])"
   ]
  },
  {
   "cell_type": "code",
   "execution_count": 110,
   "id": "a2856d41",
   "metadata": {},
   "outputs": [
    {
     "name": "stdout",
     "output_type": "stream",
     "text": [
      "Epoch 1/10\n",
      "219/219 [==============================] - 1s 3ms/step - loss: 0.0152 - val_loss: 0.0056\n",
      "Epoch 2/10\n",
      "219/219 [==============================] - 0s 2ms/step - loss: 0.0048 - val_loss: 0.0045\n",
      "Epoch 3/10\n",
      "219/219 [==============================] - 0s 2ms/step - loss: 0.0038 - val_loss: 0.0042\n",
      "Epoch 4/10\n",
      "219/219 [==============================] - 0s 1ms/step - loss: 0.0035 - val_loss: 0.0036\n",
      "Epoch 5/10\n",
      "219/219 [==============================] - 0s 1ms/step - loss: 0.0032 - val_loss: 0.0033\n",
      "Epoch 6/10\n",
      "219/219 [==============================] - 0s 1ms/step - loss: 0.0031 - val_loss: 0.0035\n",
      "Epoch 7/10\n",
      "219/219 [==============================] - 0s 2ms/step - loss: 0.0029 - val_loss: 0.0032\n",
      "Epoch 8/10\n",
      "219/219 [==============================] - 0s 2ms/step - loss: 0.0027 - val_loss: 0.0028\n",
      "Epoch 9/10\n",
      "219/219 [==============================] - 0s 2ms/step - loss: 0.0027 - val_loss: 0.0037\n",
      "Epoch 10/10\n",
      "219/219 [==============================] - 0s 2ms/step - loss: 0.0026 - val_loss: 0.0031\n",
      "31/31 [==============================] - 0s 1ms/step - loss: 0.0030\n",
      "Test Loss: 0.0030\n"
     ]
    }
   ],
   "source": [
    "fc_model.compile(loss='mse', optimizer='adam')\n",
    "fc_model.fit(x_train, y_train, epochs=10, validation_data=(x_val, y_val))\n",
    "evaluate_model(fc_model, x_test, y_test)"
   ]
  },
  {
   "cell_type": "code",
   "execution_count": 111,
   "id": "920d725a",
   "metadata": {},
   "outputs": [],
   "source": [
    "# b.Simple RNN with one layer (output layer)\n",
    "\n",
    "rnn1_model = keras.Sequential([\n",
    "    keras.layers.SimpleRNN(128, input_shape=[n_steps-1, 1]),\n",
    "    keras.layers.Dense(1)\n",
    "])"
   ]
  },
  {
   "cell_type": "code",
   "execution_count": 112,
   "id": "5352fb02",
   "metadata": {},
   "outputs": [
    {
     "name": "stdout",
     "output_type": "stream",
     "text": [
      "Epoch 1/10\n",
      "219/219 [==============================] - 5s 19ms/step - loss: 0.0127 - val_loss: 0.0038\n",
      "Epoch 2/10\n",
      "219/219 [==============================] - 4s 18ms/step - loss: 0.0038 - val_loss: 0.0032\n",
      "Epoch 3/10\n",
      "219/219 [==============================] - 4s 18ms/step - loss: 0.0034 - val_loss: 0.0027\n",
      "Epoch 4/10\n",
      "219/219 [==============================] - 4s 18ms/step - loss: 0.0029 - val_loss: 0.0026\n",
      "Epoch 5/10\n",
      "219/219 [==============================] - 4s 19ms/step - loss: 0.0030 - val_loss: 0.0026\n",
      "Epoch 6/10\n",
      "219/219 [==============================] - 4s 18ms/step - loss: 0.0030 - val_loss: 0.0026\n",
      "Epoch 7/10\n",
      "219/219 [==============================] - 4s 18ms/step - loss: 0.0029 - val_loss: 0.0031\n",
      "Epoch 8/10\n",
      "219/219 [==============================] - 4s 19ms/step - loss: 0.0029 - val_loss: 0.0028\n",
      "Epoch 9/10\n",
      "219/219 [==============================] - 4s 19ms/step - loss: 0.0030 - val_loss: 0.0031\n",
      "Epoch 10/10\n",
      "219/219 [==============================] - 4s 19ms/step - loss: 0.0029 - val_loss: 0.0029\n",
      "31/31 [==============================] - 0s 6ms/step - loss: 0.0030\n",
      "Test Loss: 0.0030\n"
     ]
    }
   ],
   "source": [
    "rnn1_model.compile(loss='mse', optimizer='adam')\n",
    "rnn1_model.fit(x_train, y_train, epochs=10, validation_data=(x_val, y_val))\n",
    "evaluate_model(rnn1_model, x_test, y_test)"
   ]
  },
  {
   "cell_type": "code",
   "execution_count": 113,
   "id": "66f8d2ee",
   "metadata": {},
   "outputs": [],
   "source": [
    "# c. Simple RNN with two hidden layers and one output layer\n",
    "\n",
    "rnn3_model = keras.Sequential([\n",
    "    keras.layers.SimpleRNN(128, return_sequences=True, input_shape=[n_steps-1, 1]),\n",
    "    keras.layers.SimpleRNN(128, return_sequences=True),\n",
    "    keras.layers.SimpleRNN(128),\n",
    "    keras.layers.Dense(1)\n",
    "])"
   ]
  },
  {
   "cell_type": "code",
   "execution_count": 114,
   "id": "59778a7b",
   "metadata": {},
   "outputs": [
    {
     "name": "stdout",
     "output_type": "stream",
     "text": [
      "Epoch 1/10\n",
      "219/219 [==============================] - 18s 74ms/step - loss: 0.0389 - val_loss: 0.0047\n",
      "Epoch 2/10\n",
      "219/219 [==============================] - 16s 75ms/step - loss: 0.0054 - val_loss: 0.0051\n",
      "Epoch 3/10\n",
      "219/219 [==============================] - 16s 74ms/step - loss: 0.0051 - val_loss: 0.0050\n",
      "Epoch 4/10\n",
      "219/219 [==============================] - 16s 75ms/step - loss: 0.0040 - val_loss: 0.0029\n",
      "Epoch 5/10\n",
      "219/219 [==============================] - 16s 74ms/step - loss: 0.0046 - val_loss: 0.0063\n",
      "Epoch 6/10\n",
      "219/219 [==============================] - 16s 75ms/step - loss: 0.0043 - val_loss: 0.0041\n",
      "Epoch 7/10\n",
      "219/219 [==============================] - 17s 75ms/step - loss: 0.0037 - val_loss: 0.0055\n",
      "Epoch 8/10\n",
      "219/219 [==============================] - 16s 73ms/step - loss: 0.0038 - val_loss: 0.0032\n",
      "Epoch 9/10\n",
      "219/219 [==============================] - 16s 73ms/step - loss: 0.0041 - val_loss: 0.0041\n",
      "Epoch 10/10\n",
      "219/219 [==============================] - 16s 74ms/step - loss: 0.0038 - val_loss: 0.0030\n",
      "31/31 [==============================] - 1s 23ms/step - loss: 0.0032\n",
      "Test Loss: 0.0032\n"
     ]
    }
   ],
   "source": [
    "rnn3_model.compile(loss='mse', optimizer='adam')\n",
    "rnn3_model.fit(x_train, y_train, epochs=10, validation_data=(x_val, y_val))\n",
    "evaluate_model(rnn3_model, x_test, y_test)"
   ]
  },
  {
   "cell_type": "code",
   "execution_count": 115,
   "id": "ac99f0bd",
   "metadata": {},
   "outputs": [],
   "source": [
    "# 2. Google stock prediction"
   ]
  },
  {
   "cell_type": "code",
   "execution_count": 116,
   "id": "26bfa14d",
   "metadata": {},
   "outputs": [],
   "source": [
    "# import necessary libraries\n",
    "\n",
    "import pandas as pd\n",
    "from sklearn.preprocessing import MinMaxScaler\n",
    "from keras.models import Sequential\n",
    "from keras.layers import SimpleRNN, Dense, Dropout\n",
    "import matplotlib.pyplot as plt"
   ]
  },
  {
   "cell_type": "code",
   "execution_count": 117,
   "id": "439f43ae",
   "metadata": {
    "scrolled": true
   },
   "outputs": [
    {
     "data": {
      "text/html": [
       "<div>\n",
       "<style scoped>\n",
       "    .dataframe tbody tr th:only-of-type {\n",
       "        vertical-align: middle;\n",
       "    }\n",
       "\n",
       "    .dataframe tbody tr th {\n",
       "        vertical-align: top;\n",
       "    }\n",
       "\n",
       "    .dataframe thead th {\n",
       "        text-align: right;\n",
       "    }\n",
       "</style>\n",
       "<table border=\"1\" class=\"dataframe\">\n",
       "  <thead>\n",
       "    <tr style=\"text-align: right;\">\n",
       "      <th></th>\n",
       "      <th>Date</th>\n",
       "      <th>Open</th>\n",
       "      <th>High</th>\n",
       "      <th>Low</th>\n",
       "      <th>Close</th>\n",
       "      <th>Adj Close</th>\n",
       "      <th>Volume</th>\n",
       "    </tr>\n",
       "  </thead>\n",
       "  <tbody>\n",
       "    <tr>\n",
       "      <th>0</th>\n",
       "      <td>2004-08-19</td>\n",
       "      <td>50.050049</td>\n",
       "      <td>52.082081</td>\n",
       "      <td>48.028027</td>\n",
       "      <td>50.220219</td>\n",
       "      <td>50.220219</td>\n",
       "      <td>44659096</td>\n",
       "    </tr>\n",
       "    <tr>\n",
       "      <th>1</th>\n",
       "      <td>2004-08-20</td>\n",
       "      <td>50.555557</td>\n",
       "      <td>54.594597</td>\n",
       "      <td>50.300301</td>\n",
       "      <td>54.209209</td>\n",
       "      <td>54.209209</td>\n",
       "      <td>22834343</td>\n",
       "    </tr>\n",
       "    <tr>\n",
       "      <th>2</th>\n",
       "      <td>2004-08-23</td>\n",
       "      <td>55.430431</td>\n",
       "      <td>56.796799</td>\n",
       "      <td>54.579578</td>\n",
       "      <td>54.754753</td>\n",
       "      <td>54.754753</td>\n",
       "      <td>18256126</td>\n",
       "    </tr>\n",
       "    <tr>\n",
       "      <th>3</th>\n",
       "      <td>2004-08-24</td>\n",
       "      <td>55.675674</td>\n",
       "      <td>55.855858</td>\n",
       "      <td>51.836838</td>\n",
       "      <td>52.487488</td>\n",
       "      <td>52.487488</td>\n",
       "      <td>15247337</td>\n",
       "    </tr>\n",
       "    <tr>\n",
       "      <th>4</th>\n",
       "      <td>2004-08-25</td>\n",
       "      <td>52.532532</td>\n",
       "      <td>54.054054</td>\n",
       "      <td>51.991993</td>\n",
       "      <td>53.053055</td>\n",
       "      <td>53.053055</td>\n",
       "      <td>9188602</td>\n",
       "    </tr>\n",
       "    <tr>\n",
       "      <th>...</th>\n",
       "      <td>...</td>\n",
       "      <td>...</td>\n",
       "      <td>...</td>\n",
       "      <td>...</td>\n",
       "      <td>...</td>\n",
       "      <td>...</td>\n",
       "      <td>...</td>\n",
       "    </tr>\n",
       "    <tr>\n",
       "      <th>4426</th>\n",
       "      <td>2022-03-18</td>\n",
       "      <td>2668.489990</td>\n",
       "      <td>2724.879883</td>\n",
       "      <td>2645.169922</td>\n",
       "      <td>2722.510010</td>\n",
       "      <td>2722.510010</td>\n",
       "      <td>2223100</td>\n",
       "    </tr>\n",
       "    <tr>\n",
       "      <th>4427</th>\n",
       "      <td>2022-03-21</td>\n",
       "      <td>2723.270020</td>\n",
       "      <td>2741.000000</td>\n",
       "      <td>2681.850098</td>\n",
       "      <td>2722.030029</td>\n",
       "      <td>2722.030029</td>\n",
       "      <td>1341600</td>\n",
       "    </tr>\n",
       "    <tr>\n",
       "      <th>4428</th>\n",
       "      <td>2022-03-22</td>\n",
       "      <td>2722.030029</td>\n",
       "      <td>2821.000000</td>\n",
       "      <td>2722.030029</td>\n",
       "      <td>2797.360107</td>\n",
       "      <td>2797.360107</td>\n",
       "      <td>1774800</td>\n",
       "    </tr>\n",
       "    <tr>\n",
       "      <th>4429</th>\n",
       "      <td>2022-03-23</td>\n",
       "      <td>2774.050049</td>\n",
       "      <td>2791.770020</td>\n",
       "      <td>2756.699951</td>\n",
       "      <td>2765.510010</td>\n",
       "      <td>2765.510010</td>\n",
       "      <td>1257700</td>\n",
       "    </tr>\n",
       "    <tr>\n",
       "      <th>4430</th>\n",
       "      <td>2022-03-24</td>\n",
       "      <td>2784.000000</td>\n",
       "      <td>2832.379883</td>\n",
       "      <td>2755.010010</td>\n",
       "      <td>2831.439941</td>\n",
       "      <td>2831.439941</td>\n",
       "      <td>1317900</td>\n",
       "    </tr>\n",
       "  </tbody>\n",
       "</table>\n",
       "<p>4431 rows × 7 columns</p>\n",
       "</div>"
      ],
      "text/plain": [
       "            Date         Open         High          Low        Close  \\\n",
       "0     2004-08-19    50.050049    52.082081    48.028027    50.220219   \n",
       "1     2004-08-20    50.555557    54.594597    50.300301    54.209209   \n",
       "2     2004-08-23    55.430431    56.796799    54.579578    54.754753   \n",
       "3     2004-08-24    55.675674    55.855858    51.836838    52.487488   \n",
       "4     2004-08-25    52.532532    54.054054    51.991993    53.053055   \n",
       "...          ...          ...          ...          ...          ...   \n",
       "4426  2022-03-18  2668.489990  2724.879883  2645.169922  2722.510010   \n",
       "4427  2022-03-21  2723.270020  2741.000000  2681.850098  2722.030029   \n",
       "4428  2022-03-22  2722.030029  2821.000000  2722.030029  2797.360107   \n",
       "4429  2022-03-23  2774.050049  2791.770020  2756.699951  2765.510010   \n",
       "4430  2022-03-24  2784.000000  2832.379883  2755.010010  2831.439941   \n",
       "\n",
       "        Adj Close    Volume  \n",
       "0       50.220219  44659096  \n",
       "1       54.209209  22834343  \n",
       "2       54.754753  18256126  \n",
       "3       52.487488  15247337  \n",
       "4       53.053055   9188602  \n",
       "...           ...       ...  \n",
       "4426  2722.510010   2223100  \n",
       "4427  2722.030029   1341600  \n",
       "4428  2797.360107   1774800  \n",
       "4429  2765.510010   1257700  \n",
       "4430  2831.439941   1317900  \n",
       "\n",
       "[4431 rows x 7 columns]"
      ]
     },
     "execution_count": 117,
     "metadata": {},
     "output_type": "execute_result"
    }
   ],
   "source": [
    "# Load and preprocess the dataset\n",
    "\n",
    "df=pd.read_csv('GOOGL.csv')\n",
    "df"
   ]
  },
  {
   "cell_type": "code",
   "execution_count": 118,
   "id": "43d9b1b0",
   "metadata": {},
   "outputs": [],
   "source": [
    "# Select relevant columns\n",
    "df = df[['Date', 'Close']]"
   ]
  },
  {
   "cell_type": "code",
   "execution_count": 119,
   "id": "1c0513f8",
   "metadata": {},
   "outputs": [
    {
     "name": "stderr",
     "output_type": "stream",
     "text": [
      "/var/folders/23/3hzywj3d0l9_bzmps16p3jn40000gn/T/ipykernel_71278/2904682033.py:2: SettingWithCopyWarning: \n",
      "A value is trying to be set on a copy of a slice from a DataFrame.\n",
      "Try using .loc[row_indexer,col_indexer] = value instead\n",
      "\n",
      "See the caveats in the documentation: https://pandas.pydata.org/pandas-docs/stable/user_guide/indexing.html#returning-a-view-versus-a-copy\n",
      "  df['Date']=pd.to_datetime(df['Date'])\n"
     ]
    }
   ],
   "source": [
    "# Convert date column to datetime\n",
    "df['Date']=pd.to_datetime(df['Date'])\n",
    "\n",
    "# Set 'Date' as index using .set_index\n",
    "df.set_index('Date', inplace=True)"
   ]
  },
  {
   "cell_type": "code",
   "execution_count": 120,
   "id": "1c9e5219",
   "metadata": {},
   "outputs": [],
   "source": [
    "# Normalize the data\n",
    "\n",
    "scaler = MinMaxScaler()\n",
    "data_scaled = scaler.fit_transform(df)"
   ]
  },
  {
   "cell_type": "code",
   "execution_count": 121,
   "id": "6753028a",
   "metadata": {},
   "outputs": [],
   "source": [
    "# Create empty lists to store sequences and targets\n",
    "x = []\n",
    "y = []\n",
    "\n",
    "sequence_length = 10  # Adjust as needed\n",
    "for i in range(len(data_scaled) - sequence_length):\n",
    "    x.append(data_scaled[i:i+sequence_length])\n",
    "    y.append(data_scaled[i+sequence_length])\n",
    "\n",
    "# Convert lists to numpy arrays\n",
    "x = np.array(x)\n",
    "y = np.array(y)\n"
   ]
  },
  {
   "cell_type": "code",
   "execution_count": 122,
   "id": "8aa30fbe",
   "metadata": {},
   "outputs": [],
   "source": [
    "# Split data into train and test sets\n",
    "x_train, x_test, y_train, y_test = train_test_split(x, y, test_size=0.2, shuffle=False)"
   ]
  },
  {
   "cell_type": "code",
   "execution_count": 123,
   "id": "3b89e49d",
   "metadata": {},
   "outputs": [
    {
     "name": "stdout",
     "output_type": "stream",
     "text": [
      "Epoch 1/50\n",
      "111/111 [==============================] - 4s 13ms/step - loss: 0.0015\n",
      "Epoch 2/50\n",
      "111/111 [==============================] - 1s 12ms/step - loss: 7.6628e-04\n",
      "Epoch 3/50\n",
      "111/111 [==============================] - 1s 12ms/step - loss: 5.6092e-04\n",
      "Epoch 4/50\n",
      "111/111 [==============================] - 1s 13ms/step - loss: 4.7731e-04\n",
      "Epoch 5/50\n",
      "111/111 [==============================] - 1s 12ms/step - loss: 3.8591e-04\n",
      "Epoch 6/50\n",
      "111/111 [==============================] - 1s 11ms/step - loss: 3.2862e-04\n",
      "Epoch 7/50\n",
      "111/111 [==============================] - 2s 14ms/step - loss: 3.1198e-04\n",
      "Epoch 8/50\n",
      "111/111 [==============================] - 1s 12ms/step - loss: 3.3284e-04\n",
      "Epoch 9/50\n",
      "111/111 [==============================] - 1s 12ms/step - loss: 2.9746e-04\n",
      "Epoch 10/50\n",
      "111/111 [==============================] - 2s 14ms/step - loss: 3.8033e-04\n",
      "Epoch 11/50\n",
      "111/111 [==============================] - 1s 12ms/step - loss: 2.9669e-04\n",
      "Epoch 12/50\n",
      "111/111 [==============================] - 1s 12ms/step - loss: 2.4892e-04\n",
      "Epoch 13/50\n",
      "111/111 [==============================] - 2s 14ms/step - loss: 2.4520e-04\n",
      "Epoch 14/50\n",
      "111/111 [==============================] - 1s 12ms/step - loss: 2.4199e-04\n",
      "Epoch 15/50\n",
      "111/111 [==============================] - 1s 12ms/step - loss: 2.5222e-04\n",
      "Epoch 16/50\n",
      "111/111 [==============================] - 1s 13ms/step - loss: 2.5689e-04\n",
      "Epoch 17/50\n",
      "111/111 [==============================] - 1s 12ms/step - loss: 2.6079e-04\n",
      "Epoch 18/50\n",
      "111/111 [==============================] - 1s 12ms/step - loss: 2.9288e-04\n",
      "Epoch 19/50\n",
      "111/111 [==============================] - 2s 14ms/step - loss: 2.3647e-04\n",
      "Epoch 20/50\n",
      "111/111 [==============================] - 1s 12ms/step - loss: 2.0243e-04\n",
      "Epoch 21/50\n",
      "111/111 [==============================] - 1s 12ms/step - loss: 2.2033e-04\n",
      "Epoch 22/50\n",
      "111/111 [==============================] - 1s 13ms/step - loss: 2.4081e-04\n",
      "Epoch 23/50\n",
      "111/111 [==============================] - 1s 12ms/step - loss: 2.3704e-04\n",
      "Epoch 24/50\n",
      "111/111 [==============================] - 1s 11ms/step - loss: 2.5011e-04\n",
      "Epoch 25/50\n",
      "111/111 [==============================] - 2s 14ms/step - loss: 2.3743e-04\n",
      "Epoch 26/50\n",
      "111/111 [==============================] - 1s 12ms/step - loss: 2.2386e-04\n",
      "Epoch 27/50\n",
      "111/111 [==============================] - 1s 13ms/step - loss: 2.6222e-04\n",
      "Epoch 28/50\n",
      "111/111 [==============================] - 1s 12ms/step - loss: 2.5539e-04\n",
      "Epoch 29/50\n",
      "111/111 [==============================] - 1s 12ms/step - loss: 2.2937e-04\n",
      "Epoch 30/50\n",
      "111/111 [==============================] - 1s 13ms/step - loss: 2.5818e-04\n",
      "Epoch 31/50\n",
      "111/111 [==============================] - 2s 15ms/step - loss: 2.2674e-04\n",
      "Epoch 32/50\n",
      "111/111 [==============================] - 1s 12ms/step - loss: 2.7110e-04\n",
      "Epoch 33/50\n",
      "111/111 [==============================] - 1s 13ms/step - loss: 2.1436e-04\n",
      "Epoch 34/50\n",
      "111/111 [==============================] - 1s 12ms/step - loss: 2.1179e-04\n",
      "Epoch 35/50\n",
      "111/111 [==============================] - 1s 12ms/step - loss: 2.3310e-04\n",
      "Epoch 36/50\n",
      "111/111 [==============================] - 1s 13ms/step - loss: 2.6185e-04\n",
      "Epoch 37/50\n",
      "111/111 [==============================] - 1s 13ms/step - loss: 2.2556e-04\n",
      "Epoch 38/50\n",
      "111/111 [==============================] - 1s 12ms/step - loss: 2.4011e-04\n",
      "Epoch 39/50\n",
      "111/111 [==============================] - 2s 14ms/step - loss: 2.1489e-04\n",
      "Epoch 40/50\n",
      "111/111 [==============================] - 1s 12ms/step - loss: 2.4370e-04\n",
      "Epoch 41/50\n",
      "111/111 [==============================] - 1s 11ms/step - loss: 2.2261e-04\n",
      "Epoch 42/50\n",
      "111/111 [==============================] - 2s 15ms/step - loss: 2.1574e-04\n",
      "Epoch 43/50\n",
      "111/111 [==============================] - 1s 13ms/step - loss: 2.1018e-04\n",
      "Epoch 44/50\n",
      "111/111 [==============================] - 1s 12ms/step - loss: 2.0480e-04\n",
      "Epoch 45/50\n",
      "111/111 [==============================] - 2s 14ms/step - loss: 2.0980e-04\n",
      "Epoch 46/50\n",
      "111/111 [==============================] - 1s 13ms/step - loss: 1.9791e-04\n",
      "Epoch 47/50\n",
      "111/111 [==============================] - 1s 12ms/step - loss: 2.1921e-04\n",
      "Epoch 48/50\n",
      "111/111 [==============================] - 1s 13ms/step - loss: 2.3047e-04\n",
      "Epoch 49/50\n",
      "111/111 [==============================] - 1s 12ms/step - loss: 2.1705e-04\n",
      "Epoch 50/50\n",
      "111/111 [==============================] - 1s 12ms/step - loss: 1.9126e-04\n"
     ]
    },
    {
     "data": {
      "text/plain": [
       "<keras.src.callbacks.History at 0x16a4c9c30>"
      ]
     },
     "execution_count": 123,
     "metadata": {},
     "output_type": "execute_result"
    }
   ],
   "source": [
    "model = Sequential([\n",
    "    SimpleRNN(units=50, activation='relu', input_shape=(x_train.shape[1], x_train.shape[2]), return_sequences=True),\n",
    "    Dropout(0.2),\n",
    "    SimpleRNN(units=50, activation='relu', return_sequences=True),\n",
    "    Dropout(0.2),\n",
    "    SimpleRNN(units=50, activation='relu', return_sequences=True),\n",
    "    Dropout(0.2),\n",
    "    SimpleRNN(units=50, activation='relu'),\n",
    "    Dropout(0.2),\n",
    "    Dense(units=1)\n",
    "])\n",
    "\n",
    "model.compile(optimizer='adam', loss='mean_squared_error')\n",
    "\n",
    "# Train the model\n",
    "model.fit(x_train, y_train, epochs=50, batch_size=32)\n"
   ]
  },
  {
   "cell_type": "code",
   "execution_count": 124,
   "id": "f3a8b90e",
   "metadata": {},
   "outputs": [
    {
     "name": "stdout",
     "output_type": "stream",
     "text": [
      "28/28 [==============================] - 1s 3ms/step\n",
      "MAPE: 16.81%\n",
      "MSE: 0.01\n"
     ]
    }
   ],
   "source": [
    "# Make predictions\n",
    "predictions = model.predict(x_test)\n",
    "\n",
    "# Calculate MAPE\n",
    "def calculate_mape(y_true, y_pred):\n",
    "    return np.mean(np.abs((y_true - y_pred) / y_true)) * 100\n",
    "\n",
    "mape = calculate_mape(y_test, predictions)\n",
    "\n",
    "# Calculate MSE\n",
    "mse = np.mean(np.square(y_test - predictions))\n",
    "\n",
    "print(f\"MAPE: {mape:.2f}%\")\n",
    "print(f\"MSE: {mse:.2f}\")\n"
   ]
  },
  {
   "cell_type": "code",
   "execution_count": 125,
   "id": "1e6c53c4",
   "metadata": {},
   "outputs": [
    {
     "data": {
      "image/png": "[encoded data removed]",
      "text/plain": [
       "<Figure size 1000x600 with 1 Axes>"
      ]
     },
     "metadata": {},
     "output_type": "display_data"
    }
   ],
   "source": [
    "# Inverse transform predictions and actual values\n",
    "predictions = scaler.inverse_transform(predictions)\n",
    "y_test = scaler.inverse_transform(y_test)\n",
    "\n",
    "# Plotting\n",
    "plt.figure(figsize=(10, 6))\n",
    "plt.plot(df.index[-len(y_test):], y_test, label='Actual')\n",
    "plt.plot(df.index[-len(y_test):], predictions, label='Predicted')\n",
    "plt.xlabel('Date')\n",
    "plt.ylabel('Stock Price')\n",
    "plt.title('Actual vs. Predicted Stock Prices')\n",
    "plt.legend()\n",
    "plt.show()\n"
   ]
  }
 ],
 "metadata": {
  "kernelspec": {
   "display_name": "Python 3 (ipykernel)",
   "language": "python",
   "name": "python3"
  },
  "language_info": {
   "codemirror_mode": {
    "name": "ipython",
    "version": 3
   },
   "file_extension": ".py",
   "mimetype": "text/x-python",
   "name": "python",
   "nbconvert_exporter": "python",
   "pygments_lexer": "ipython3",
   "version": "3.10.9"
  }
 },
 "nbformat": 4,
 "nbformat_minor": 5
}
